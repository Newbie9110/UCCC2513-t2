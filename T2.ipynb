{
 "cells": [
  {
   "cell_type": "markdown",
   "id": "2edb0b56",
   "metadata": {},
   "source": []
  },
  {
   "cell_type": "code",
   "execution_count": 3,
   "id": "5e57a7fc",
   "metadata": {},
   "outputs": [
    {
     "name": "stdout",
     "output_type": "stream",
     "text": [
      "\n"
     ]
    }
   ],
   "source": [
    "print()"
   ]
  },
  {
   "cell_type": "code",
   "execution_count": 4,
   "id": "cf5d9c18",
   "metadata": {},
   "outputs": [
    {
     "name": "stdout",
     "output_type": "stream",
     "text": [
      "Hello Word\n"
     ]
    }
   ],
   "source": [
    "print(\"Hello Word\")\n"
   ]
  },
  {
   "cell_type": "code",
   "execution_count": 5,
   "id": "bac03ba9",
   "metadata": {},
   "outputs": [],
   "source": [
    "def AddTwoNumbers(x,y):\n",
    "    return(x+y)"
   ]
  },
  {
   "cell_type": "code",
   "execution_count": 6,
   "id": "d930221e",
   "metadata": {},
   "outputs": [
    {
     "data": {
      "text/plain": [
       "12"
      ]
     },
     "execution_count": 6,
     "metadata": {},
     "output_type": "execute_result"
    }
   ],
   "source": [
    "AddTwoNumbers(2,10)"
   ]
  },
  {
   "cell_type": "code",
   "execution_count": 7,
   "id": "45b761f1",
   "metadata": {},
   "outputs": [],
   "source": [
    "def compare(x,y):\n",
    "    \"\"\"Compare 2 numbers\"\"\"\n",
    "    if x>y :\n",
    "        print (f\"{x} is larger than {y}.\")\n",
    "    elif x<y:\n",
    "        print (f\"{x} is smaller than {y}.\")\n",
    "    else:\n",
    "        print (f\"{x} is equal to {y}.\")\n"
   ]
  },
  {
   "cell_type": "code",
   "execution_count": 8,
   "id": "d05bb7d1",
   "metadata": {},
   "outputs": [
    {
     "name": "stdout",
     "output_type": "stream",
     "text": [
      "9 is smaller than 10.\n"
     ]
    }
   ],
   "source": [
    "compare(9,10)"
   ]
  },
  {
   "cell_type": "code",
   "execution_count": 9,
   "id": "6afe0cff",
   "metadata": {},
   "outputs": [
    {
     "name": "stdout",
     "output_type": "stream",
     "text": [
      "<class 'float'>\n",
      "<class 'int'>\n",
      "<class 'str'>\n",
      "<class 'bool'>\n",
      "<class 'complex'>\n"
     ]
    }
   ],
   "source": [
    "import math\n",
    "\n",
    "x=math.pi\n",
    "y=0\n",
    "z=\"Computer vision is fun\"\n",
    "z1=False\n",
    "z2=2j #imaginary number\n",
    "\n",
    "print(type(x))\n",
    "print(type(y))\n",
    "print(type(z))\n",
    "print(type(z1))\n",
    "print(type(z2))"
   ]
  },
  {
   "cell_type": "code",
   "execution_count": 10,
   "id": "e32b94b4",
   "metadata": {},
   "outputs": [],
   "source": [
    "from IPython.core.interactiveshell import InteractiveShell\n",
    "InteractiveShell.ast_node_interactivity=\"all\"  #print multiple output"
   ]
  },
  {
   "cell_type": "code",
   "execution_count": 11,
   "id": "25581ae1",
   "metadata": {},
   "outputs": [],
   "source": [
    "InteractiveShell.ast_node_interactivity=\"last_expr\""
   ]
  },
  {
   "cell_type": "code",
   "execution_count": 12,
   "id": "352d9184",
   "metadata": {
    "scrolled": true
   },
   "outputs": [
    {
     "name": "stdout",
     "output_type": "stream",
     "text": [
      "3\n",
      "2.141\n"
     ]
    }
   ],
   "source": [
    "#casting(conversion between data type)\n",
    "x=11/3\n",
    "y=\"2.141\"\n",
    "\n",
    "print(int(x))\n",
    "print(float(y))"
   ]
  },
  {
   "cell_type": "markdown",
   "id": "7331e022",
   "metadata": {},
   "source": [
    "### List and tuple\n",
    "List and tuple are variable that can hold multiple items.\n",
    "|List | Tuple |\n",
    "| -- | -- |\n",
    "| $[]$ | $()$ |\n",
    "\n"
   ]
  },
  {
   "cell_type": "code",
   "execution_count": 13,
   "id": "3ab0a71a",
   "metadata": {},
   "outputs": [
    {
     "data": {
      "text/plain": [
       "['a', 'b', 'c']"
      ]
     },
     "execution_count": 13,
     "metadata": {},
     "output_type": "execute_result"
    }
   ],
   "source": [
    "myList=[\"a\",\"b\",\"c\"]\n",
    "myList"
   ]
  },
  {
   "cell_type": "code",
   "execution_count": 14,
   "id": "3810b4a0",
   "metadata": {},
   "outputs": [
    {
     "data": {
      "text/plain": [
       "('a', 'b', 'c')"
      ]
     },
     "execution_count": 14,
     "metadata": {},
     "output_type": "execute_result"
    }
   ],
   "source": [
    "myTuple=(\"a\",\"b\",\"c\")\n",
    "myTuple"
   ]
  },
  {
   "cell_type": "code",
   "execution_count": 15,
   "id": "7fd0535c",
   "metadata": {},
   "outputs": [
    {
     "data": {
      "text/plain": [
       "['a', 10, 'c']"
      ]
     },
     "execution_count": 15,
     "metadata": {},
     "output_type": "execute_result"
    }
   ],
   "source": [
    "myList[1]=10\n",
    "myList #changeable"
   ]
  },
  {
   "cell_type": "code",
   "execution_count": 16,
   "id": "c90d5e6b",
   "metadata": {},
   "outputs": [
    {
     "name": "stdout",
     "output_type": "stream",
     "text": [
      "Tuple is immutable\n"
     ]
    }
   ],
   "source": [
    "try:\n",
    "    myTupel[1]=10 #unchangeable\n",
    "except:\n",
    "    print(\"Tuple is immutable\")"
   ]
  },
  {
   "cell_type": "markdown",
   "id": "9fbae3ca",
   "metadata": {},
   "source": [
    "## Numpy module\n",
    "Numpy enables fast array computation and manipulation.Faster than list.\n",
    "locaility of reference\n"
   ]
  },
  {
   "cell_type": "code",
   "execution_count": 3,
   "id": "60048753",
   "metadata": {},
   "outputs": [],
   "source": [
    "import numpy as np"
   ]
  },
  {
   "cell_type": "code",
   "execution_count": 18,
   "id": "cac10868",
   "metadata": {},
   "outputs": [
    {
     "data": {
      "text/plain": [
       "numpy.ndarray"
      ]
     },
     "execution_count": 18,
     "metadata": {},
     "output_type": "execute_result"
    }
   ],
   "source": [
    "# Define 1D array\n",
    "x=np.array([1,2,3,4,5])\n",
    "type(x)"
   ]
  },
  {
   "cell_type": "markdown",
   "id": "3a1a0468",
   "metadata": {},
   "source": [
    "### Indexing"
   ]
  },
  {
   "cell_type": "code",
   "execution_count": 19,
   "id": "c97b961e",
   "metadata": {},
   "outputs": [
    {
     "name": "stdout",
     "output_type": "stream",
     "text": [
      "3\n",
      "5\n",
      "5\n"
     ]
    }
   ],
   "source": [
    "print(x[2])\n",
    "print(x[4])\n",
    "print(x[-1])"
   ]
  },
  {
   "cell_type": "markdown",
   "id": "cd2c8670",
   "metadata": {},
   "source": [
    "### Slicing\n"
   ]
  },
  {
   "cell_type": "code",
   "execution_count": 20,
   "id": "baddc787",
   "metadata": {},
   "outputs": [
    {
     "name": "stdout",
     "output_type": "stream",
     "text": [
      "[2 3]\n"
     ]
    }
   ],
   "source": [
    "print(x[1:3])"
   ]
  },
  {
   "cell_type": "code",
   "execution_count": 21,
   "id": "277f2488",
   "metadata": {},
   "outputs": [
    {
     "data": {
      "text/plain": [
       "array([5, 4, 3, 2, 1])"
      ]
     },
     "execution_count": 21,
     "metadata": {},
     "output_type": "execute_result"
    }
   ],
   "source": [
    "# reversing\n",
    "x[::-1]"
   ]
  },
  {
   "cell_type": "code",
   "execution_count": 22,
   "id": "a0c43ff5",
   "metadata": {},
   "outputs": [
    {
     "data": {
      "text/plain": [
       "array([2, 4])"
      ]
     },
     "execution_count": 22,
     "metadata": {},
     "output_type": "execute_result"
    }
   ],
   "source": [
    "x[1::2] #skipping"
   ]
  },
  {
   "cell_type": "code",
   "execution_count": 23,
   "id": "e5b83efb",
   "metadata": {},
   "outputs": [
    {
     "data": {
      "text/plain": [
       "array([3, 4, 5])"
      ]
     },
     "execution_count": 23,
     "metadata": {},
     "output_type": "execute_result"
    }
   ],
   "source": [
    "x[2:5]"
   ]
  },
  {
   "cell_type": "markdown",
   "id": "2bd6d643",
   "metadata": {},
   "source": [
    "### Concatenation (join)"
   ]
  },
  {
   "cell_type": "code",
   "execution_count": 24,
   "id": "0ab39d86",
   "metadata": {},
   "outputs": [
    {
     "data": {
      "text/plain": [
       "array([ 1,  2,  3,  4,  5,  6,  7,  8,  9, 10])"
      ]
     },
     "execution_count": 24,
     "metadata": {},
     "output_type": "execute_result"
    }
   ],
   "source": [
    "y=np.array([6,7,8,9,10])\n",
    "x_long = np.concatenate((x,y))\n",
    "x_long\n"
   ]
  },
  {
   "cell_type": "markdown",
   "id": "87e9f15d",
   "metadata": {},
   "source": [
    "### Attributes of Numpy.ndarray object"
   ]
  },
  {
   "cell_type": "code",
   "execution_count": 25,
   "id": "61a862d0",
   "metadata": {},
   "outputs": [
    {
     "name": "stdout",
     "output_type": "stream",
     "text": [
      "The Shaoe of x_long : (10,)\n",
      "int32\n"
     ]
    }
   ],
   "source": [
    "print(f\"The Shaoe of x_long : {x_long.shape}\")\n",
    "print(x_long.dtype)"
   ]
  },
  {
   "cell_type": "markdown",
   "id": "323ccdff",
   "metadata": {},
   "source": [
    "### Create custom image"
   ]
  },
  {
   "cell_type": "code",
   "execution_count": 2,
   "id": "b17738b1",
   "metadata": {},
   "outputs": [
    {
     "ename": "NameError",
     "evalue": "name 'np' is not defined",
     "output_type": "error",
     "traceback": [
      "\u001b[1;31m---------------------------------------------------------------------------\u001b[0m",
      "\u001b[1;31mNameError\u001b[0m                                 Traceback (most recent call last)",
      "Input \u001b[1;32mIn [2]\u001b[0m, in \u001b[0;36m<cell line: 2>\u001b[1;34m()\u001b[0m\n\u001b[0;32m      1\u001b[0m \u001b[38;5;28;01mimport\u001b[39;00m \u001b[38;5;21;01mmatplotlib\u001b[39;00m\u001b[38;5;21;01m.\u001b[39;00m\u001b[38;5;21;01mpyplot\u001b[39;00m \u001b[38;5;28;01mas\u001b[39;00m \u001b[38;5;21;01mplt\u001b[39;00m\n\u001b[1;32m----> 2\u001b[0m black\u001b[38;5;241m=\u001b[39m\u001b[43mnp\u001b[49m\u001b[38;5;241m.\u001b[39mzeros((\u001b[38;5;241m200\u001b[39m,\u001b[38;5;241m200\u001b[39m),dtype\u001b[38;5;241m=\u001b[39mnp\u001b[38;5;241m.\u001b[39muint8) \u001b[38;5;66;03m#uint8\u001b[39;00m\n\u001b[0;32m      3\u001b[0m plt\u001b[38;5;241m.\u001b[39mimshow(black,cmap\u001b[38;5;241m=\u001b[39mplt\u001b[38;5;241m.\u001b[39mcm\u001b[38;5;241m.\u001b[39mgray)\n\u001b[0;32m      4\u001b[0m plt\u001b[38;5;241m.\u001b[39mtitle(\u001b[38;5;124m\"\u001b[39m\u001b[38;5;124mcustom black image\u001b[39m\u001b[38;5;124m\"\u001b[39m)\n",
      "\u001b[1;31mNameError\u001b[0m: name 'np' is not defined"
     ]
    }
   ],
   "source": [
    "import matplotlib.pyplot as plt\n",
    "black=np.zeros((200,200),dtype=np.uint8) #uint8\n",
    "plt.imshow(black,cmap=plt.cm.gray)\n",
    "plt.title(\"custom black image\")\n",
    "plt.xticks([]),plt.yticks([])\n",
    "plt.show\n"
   ]
  },
  {
   "cell_type": "code",
   "execution_count": 31,
   "id": "d12c8800",
   "metadata": {},
   "outputs": [
    {
     "data": {
      "image/png": "[encoded data removed]",
      "text/plain": [
       "<Figure size 432x288 with 1 Axes>"
      ]
     },
     "metadata": {},
     "output_type": "display_data"
    }
   ],
   "source": [
    "white=255 * np.ones((200,200)) #uint8\n",
    "white=np.uint8(white)\n",
    "plt.imshow(white,cmap=plt.cm.gray,vmin=0,vmax=256)\n",
    "plt.xticks([]),plt.yticks([])\n",
    "plt.show()"
   ]
  },
  {
   "cell_type": "code",
   "execution_count": null,
   "id": "dbeb779c",
   "metadata": {},
   "outputs": [],
   "source": [
    "noise_color_img = np.random.randint(0,high=256,size=(100,100,3),dtype=np.uint8)\n",
    "plt.imshow(noise_color_img)\n",
    "plt.xticks([]),plt.yticks([])\n",
    "plt.show()"
   ]
  },
  {
   "cell_type": "code",
   "execution_count": null,
   "id": "94d9e378",
   "metadata": {},
   "outputs": [],
   "source": [
    "def oddeven(x):\n",
    "    if isinstance(x,int):\n",
    "        if x%2 ==0:\n",
    "            if x== 0:\n",
    "                statement=\" is neither even or odd\"\n",
    "            else:\n",
    "                statement=\" is even number.\"\n",
    "        else:\n",
    "            statement = \" is odd number.\"\n",
    "    else:\n",
    "        statement=\" is not an integer\"\n",
    "        \n",
    "    return print(f\"{x}\" +statement)"
   ]
  },
  {
   "cell_type": "code",
   "execution_count": null,
   "id": "680af50d",
   "metadata": {},
   "outputs": [],
   "source": [
    "oddeven(107)"
   ]
  },
  {
   "cell_type": "code",
   "execution_count": null,
   "id": "70de7ed7",
   "metadata": {},
   "outputs": [],
   "source": [
    "import time\n",
    "x= np.array([1,2,3,4,5,6,7,8,9])\n",
    "mylist=([1,2,3,4,5,6,7,8,9])\n"
   ]
  },
  {
   "cell_type": "code",
   "execution_count": null,
   "id": "9499d415",
   "metadata": {},
   "outputs": [],
   "source": [
    "large_n=1e5 #100,000\n",
    "\n",
    "numpy_arr = np.arange(large_n)\n",
    "list_arr = list(range(int(large_n)))"
   ]
  },
  {
   "cell_type": "code",
   "execution_count": null,
   "id": "ca203af1",
   "metadata": {},
   "outputs": [],
   "source": [
    "print(numpy_arr[:5])\n",
    "print(list_arr[:5])\n",
    "\n",
    "print(numpy_arr[-5:])\n",
    "print(list_arr[-5:])"
   ]
  },
  {
   "cell_type": "code",
   "execution_count": null,
   "id": "fa7ad10a",
   "metadata": {},
   "outputs": [],
   "source": [
    "%timeit res = numpy_arr*2"
   ]
  },
  {
   "cell_type": "code",
   "execution_count": null,
   "id": "67cc4bcc",
   "metadata": {},
   "outputs": [],
   "source": [
    "%timeit res = [2* i for i in list_arr]"
   ]
  },
  {
   "cell_type": "code",
   "execution_count": 33,
   "id": "8fd2b601",
   "metadata": {},
   "outputs": [
    {
     "data": {
      "image/png": "[encoded data removed]",
      "text/plain": [
       "<Figure size 432x288 with 1 Axes>"
      ]
     },
     "metadata": {
      "needs_background": "light"
     },
     "output_type": "display_data"
    },
    {
     "data": {
      "text/plain": [
       "range(50, 151)"
      ]
     },
     "execution_count": 33,
     "metadata": {},
     "output_type": "execute_result"
    }
   ],
   "source": [
    "radius=50\n",
    "square=200\n",
    "circle=np.zeros((square,square))\n",
    "center=square/2\n",
    "\n",
    "for i in range(int(center-radius),int(center+radius+1),1): #x^2+y^2=r^2\n",
    "    for j in range(int(center-radius),int(center+radius+1),1):\n",
    "        if(i-center)**2+(j-center)**2<=float(radius**2):   \n",
    "            circle[i][j]=255\n",
    "    \n",
    "plt.imshow(circle , cmap=plt.cm.gray)\n",
    "plt.title(\"White circle with black background\")\n",
    "\n",
    "plt.show()\n",
    "range(int(center-radius),int(center+radius+1))"
   ]
  },
  {
   "cell_type": "code",
   "execution_count": 100,
   "id": "a01a96de",
   "metadata": {},
   "outputs": [
    {
     "name": "stdout",
     "output_type": "stream",
     "text": [
      "[ 0  1  2  3 25 25 25  7  8  9]\n",
      "[25 25 25]\n"
     ]
    }
   ],
   "source": [
    "my_arr=np.arange(10)\n",
    "my_arr[4:7]=25\n",
    "#arr_slice=my_arr[4:7]\n",
    "#arr_slice[0]=-1\n",
    "\n",
    "#print(my_arr)\n",
    "#print(arr_slice)\n",
    "#[ 0  1  2  3 -1 25 25  7  8  9]\n",
    "#[-1 25 25]\n",
    "\n",
    "arr_slice=np.copy(my_arr[4:7])\n",
    "#arr_slice[0]=-1\n",
    "print(my_arr)\n",
    "print(arr_slice)\n",
    "#[ 0  1  2  3 25 25 25  7  8  9]\n",
    "#[-1 25 25]"
   ]
  },
  {
   "cell_type": "code",
   "execution_count": null,
   "id": "0a3ca097",
   "metadata": {},
   "outputs": [],
   "source": []
  },
  {
   "cell_type": "code",
   "execution_count": null,
   "id": "36e01162",
   "metadata": {},
   "outputs": [],
   "source": []
  },
  {
   "cell_type": "code",
   "execution_count": null,
   "id": "c57c6d9c",
   "metadata": {},
   "outputs": [],
   "source": []
  },
  {
   "cell_type": "code",
   "execution_count": null,
   "id": "ae4f1edd",
   "metadata": {},
   "outputs": [],
   "source": []
  },
  {
   "cell_type": "code",
   "execution_count": null,
   "id": "ff7a032d",
   "metadata": {},
   "outputs": [],
   "source": []
  },
  {
   "cell_type": "code",
   "execution_count": null,
   "id": "117becc3",
   "metadata": {},
   "outputs": [],
   "source": []
  },
  {
   "cell_type": "code",
   "execution_count": null,
   "id": "dc5b42b3",
   "metadata": {},
   "outputs": [],
   "source": []
  },
  {
   "cell_type": "code",
   "execution_count": null,
   "id": "95a286c0",
   "metadata": {},
   "outputs": [],
   "source": []
  },
  {
   "cell_type": "code",
   "execution_count": null,
   "id": "93048a36",
   "metadata": {},
   "outputs": [],
   "source": []
  },
  {
   "cell_type": "code",
   "execution_count": null,
   "id": "88b8180a",
   "metadata": {},
   "outputs": [],
   "source": []
  },
  {
   "cell_type": "code",
   "execution_count": null,
   "id": "8ed08002",
   "metadata": {},
   "outputs": [],
   "source": []
  },
  {
   "cell_type": "code",
   "execution_count": null,
   "id": "cd87bd4f",
   "metadata": {},
   "outputs": [],
   "source": []
  },
  {
   "cell_type": "code",
   "execution_count": null,
   "id": "916d7525",
   "metadata": {},
   "outputs": [],
   "source": []
  },
  {
   "cell_type": "code",
   "execution_count": null,
   "id": "6c5f6290",
   "metadata": {},
   "outputs": [],
   "source": []
  },
  {
   "cell_type": "code",
   "execution_count": null,
   "id": "5d16fa0c",
   "metadata": {},
   "outputs": [],
   "source": []
  },
  {
   "cell_type": "code",
   "execution_count": null,
   "id": "622eacf8",
   "metadata": {},
   "outputs": [],
   "source": []
  },
  {
   "cell_type": "code",
   "execution_count": null,
   "id": "61f814f7",
   "metadata": {},
   "outputs": [],
   "source": []
  },
  {
   "cell_type": "code",
   "execution_count": null,
   "id": "3449968c",
   "metadata": {},
   "outputs": [],
   "source": []
  }
 ],
 "metadata": {
  "kernelspec": {
   "display_name": "Python 3 (ipykernel)",
   "language": "python",
   "name": "python3"
  },
  "language_info": {
   "codemirror_mode": {
    "name": "ipython",
    "version": 3
   },
   "file_extension": ".py",
   "mimetype": "text/x-python",
   "name": "python",
   "nbconvert_exporter": "python",
   "pygments_lexer": "ipython3",
   "version": "3.9.12"
  }
 },
 "nbformat": 4,
 "nbformat_minor": 5
}
